{
  "nbformat": 4,
  "nbformat_minor": 0,
  "metadata": {
    "anaconda-cloud": {},
    "kernelspec": {
      "display_name": "Python 3.7 (tensorflow)",
      "language": "python",
      "name": "tensorflow"
    },
    "language_info": {
      "codemirror_mode": {
        "name": "ipython",
        "version": 3
      },
      "file_extension": ".py",
      "mimetype": "text/x-python",
      "name": "python",
      "nbconvert_exporter": "python",
      "pygments_lexer": "ipython3",
      "version": "3.7.7"
    },
    "colab": {
      "name": "4_Map_Apply.ipynb",
      "provenance": []
    }
  },
  "cells": [
    {
      "cell_type": "markdown",
      "metadata": {
        "id": "_drTwOCb3WID"
      },
      "source": [
        "### Map"
      ]
    },
    {
      "cell_type": "code",
      "metadata": {
        "id": "3Oxus1603WIH",
        "outputId": "755b95dd-d1bb-495e-a275-4042efc690dc",
        "colab": {
          "base_uri": "https://localhost:8080/",
          "height": 419
        }
      },
      "source": [
        "import os\n",
        "import pandas as pd\n",
        "import numpy as np\n",
        "\n",
        "df = pd.read_csv(\n",
        "    \"https://data.heatonresearch.com/data/t81-558/auto-mpg.csv\", \n",
        "    na_values=['NA', '?'])\n",
        "\n",
        "# Apply the map\n",
        "df['origin_name'] = df['origin'].map(\n",
        "    {1: 'North America', 2: 'Europe', 3: 'Asia'})\n",
        "\n",
        "# Shuffle the data, so that we hopefully see\n",
        "# more regions.\n",
        "df = df.reindex(np.random.permutation(df.index))\n",
        "\n",
        "display(df)"
      ],
      "execution_count": 1,
      "outputs": [
        {
          "output_type": "display_data",
          "data": {
            "text/html": [
              "<div>\n",
              "<style scoped>\n",
              "    .dataframe tbody tr th:only-of-type {\n",
              "        vertical-align: middle;\n",
              "    }\n",
              "\n",
              "    .dataframe tbody tr th {\n",
              "        vertical-align: top;\n",
              "    }\n",
              "\n",
              "    .dataframe thead th {\n",
              "        text-align: right;\n",
              "    }\n",
              "</style>\n",
              "<table border=\"1\" class=\"dataframe\">\n",
              "  <thead>\n",
              "    <tr style=\"text-align: right;\">\n",
              "      <th></th>\n",
              "      <th>mpg</th>\n",
              "      <th>cylinders</th>\n",
              "      <th>displacement</th>\n",
              "      <th>horsepower</th>\n",
              "      <th>weight</th>\n",
              "      <th>acceleration</th>\n",
              "      <th>year</th>\n",
              "      <th>origin</th>\n",
              "      <th>name</th>\n",
              "      <th>origin_name</th>\n",
              "    </tr>\n",
              "  </thead>\n",
              "  <tbody>\n",
              "    <tr>\n",
              "      <th>84</th>\n",
              "      <td>27.0</td>\n",
              "      <td>4</td>\n",
              "      <td>97.0</td>\n",
              "      <td>88.0</td>\n",
              "      <td>2100</td>\n",
              "      <td>16.5</td>\n",
              "      <td>72</td>\n",
              "      <td>3</td>\n",
              "      <td>toyota corolla 1600 (sw)</td>\n",
              "      <td>Asia</td>\n",
              "    </tr>\n",
              "    <tr>\n",
              "      <th>362</th>\n",
              "      <td>24.2</td>\n",
              "      <td>6</td>\n",
              "      <td>146.0</td>\n",
              "      <td>120.0</td>\n",
              "      <td>2930</td>\n",
              "      <td>13.8</td>\n",
              "      <td>81</td>\n",
              "      <td>3</td>\n",
              "      <td>datsun 810 maxima</td>\n",
              "      <td>Asia</td>\n",
              "    </tr>\n",
              "    <tr>\n",
              "      <th>136</th>\n",
              "      <td>16.0</td>\n",
              "      <td>8</td>\n",
              "      <td>302.0</td>\n",
              "      <td>140.0</td>\n",
              "      <td>4141</td>\n",
              "      <td>14.0</td>\n",
              "      <td>74</td>\n",
              "      <td>1</td>\n",
              "      <td>ford gran torino</td>\n",
              "      <td>North America</td>\n",
              "    </tr>\n",
              "    <tr>\n",
              "      <th>368</th>\n",
              "      <td>27.0</td>\n",
              "      <td>4</td>\n",
              "      <td>112.0</td>\n",
              "      <td>88.0</td>\n",
              "      <td>2640</td>\n",
              "      <td>18.6</td>\n",
              "      <td>82</td>\n",
              "      <td>1</td>\n",
              "      <td>chevrolet cavalier wagon</td>\n",
              "      <td>North America</td>\n",
              "    </tr>\n",
              "    <tr>\n",
              "      <th>349</th>\n",
              "      <td>34.1</td>\n",
              "      <td>4</td>\n",
              "      <td>91.0</td>\n",
              "      <td>68.0</td>\n",
              "      <td>1985</td>\n",
              "      <td>16.0</td>\n",
              "      <td>81</td>\n",
              "      <td>3</td>\n",
              "      <td>mazda glc 4</td>\n",
              "      <td>Asia</td>\n",
              "    </tr>\n",
              "    <tr>\n",
              "      <th>...</th>\n",
              "      <td>...</td>\n",
              "      <td>...</td>\n",
              "      <td>...</td>\n",
              "      <td>...</td>\n",
              "      <td>...</td>\n",
              "      <td>...</td>\n",
              "      <td>...</td>\n",
              "      <td>...</td>\n",
              "      <td>...</td>\n",
              "      <td>...</td>\n",
              "    </tr>\n",
              "    <tr>\n",
              "      <th>73</th>\n",
              "      <td>13.0</td>\n",
              "      <td>8</td>\n",
              "      <td>307.0</td>\n",
              "      <td>130.0</td>\n",
              "      <td>4098</td>\n",
              "      <td>14.0</td>\n",
              "      <td>72</td>\n",
              "      <td>1</td>\n",
              "      <td>chevrolet chevelle concours (sw)</td>\n",
              "      <td>North America</td>\n",
              "    </tr>\n",
              "    <tr>\n",
              "      <th>236</th>\n",
              "      <td>25.5</td>\n",
              "      <td>4</td>\n",
              "      <td>140.0</td>\n",
              "      <td>89.0</td>\n",
              "      <td>2755</td>\n",
              "      <td>15.8</td>\n",
              "      <td>77</td>\n",
              "      <td>1</td>\n",
              "      <td>ford mustang ii 2+2</td>\n",
              "      <td>North America</td>\n",
              "    </tr>\n",
              "    <tr>\n",
              "      <th>162</th>\n",
              "      <td>15.0</td>\n",
              "      <td>6</td>\n",
              "      <td>258.0</td>\n",
              "      <td>110.0</td>\n",
              "      <td>3730</td>\n",
              "      <td>19.0</td>\n",
              "      <td>75</td>\n",
              "      <td>1</td>\n",
              "      <td>amc matador</td>\n",
              "      <td>North America</td>\n",
              "    </tr>\n",
              "    <tr>\n",
              "      <th>105</th>\n",
              "      <td>13.0</td>\n",
              "      <td>8</td>\n",
              "      <td>360.0</td>\n",
              "      <td>170.0</td>\n",
              "      <td>4654</td>\n",
              "      <td>13.0</td>\n",
              "      <td>73</td>\n",
              "      <td>1</td>\n",
              "      <td>plymouth custom suburb</td>\n",
              "      <td>North America</td>\n",
              "    </tr>\n",
              "    <tr>\n",
              "      <th>327</th>\n",
              "      <td>36.4</td>\n",
              "      <td>5</td>\n",
              "      <td>121.0</td>\n",
              "      <td>67.0</td>\n",
              "      <td>2950</td>\n",
              "      <td>19.9</td>\n",
              "      <td>80</td>\n",
              "      <td>2</td>\n",
              "      <td>audi 5000s (diesel)</td>\n",
              "      <td>Europe</td>\n",
              "    </tr>\n",
              "  </tbody>\n",
              "</table>\n",
              "<p>398 rows × 10 columns</p>\n",
              "</div>"
            ],
            "text/plain": [
              "      mpg  cylinders  ...                              name    origin_name\n",
              "84   27.0          4  ...          toyota corolla 1600 (sw)           Asia\n",
              "362  24.2          6  ...                 datsun 810 maxima           Asia\n",
              "136  16.0          8  ...                  ford gran torino  North America\n",
              "368  27.0          4  ...          chevrolet cavalier wagon  North America\n",
              "349  34.1          4  ...                       mazda glc 4           Asia\n",
              "..    ...        ...  ...                               ...            ...\n",
              "73   13.0          8  ...  chevrolet chevelle concours (sw)  North America\n",
              "236  25.5          4  ...               ford mustang ii 2+2  North America\n",
              "162  15.0          6  ...                       amc matador  North America\n",
              "105  13.0          8  ...            plymouth custom suburb  North America\n",
              "327  36.4          5  ...               audi 5000s (diesel)         Europe\n",
              "\n",
              "[398 rows x 10 columns]"
            ]
          },
          "metadata": {
            "tags": []
          }
        }
      ]
    },
    {
      "cell_type": "markdown",
      "metadata": {
        "id": "L2WcoaZw3WIa"
      },
      "source": [
        "### Apply"
      ]
    },
    {
      "cell_type": "code",
      "metadata": {
        "id": "e1QBsgzP3WIc",
        "outputId": "ff18ae0d-fec5-4fa8-f102-c690bb85c7c7",
        "colab": {
          "base_uri": "https://localhost:8080/",
          "height": 204
        }
      },
      "source": [
        "efficiency = df.apply(lambda x: x['displacement']/x['horsepower'], axis=1)\n",
        "df['efficiency'] = efficiency\n",
        "display(efficiency[0:10])"
      ],
      "execution_count": 2,
      "outputs": [
        {
          "output_type": "display_data",
          "data": {
            "text/plain": [
              "84     1.102273\n",
              "362    1.216667\n",
              "136    2.157143\n",
              "368    1.272727\n",
              "349    1.338235\n",
              "359    1.762500\n",
              "120    1.080357\n",
              "123    1.278689\n",
              "129    1.179104\n",
              "281    2.352941\n",
              "dtype: float64"
            ]
          },
          "metadata": {
            "tags": []
          }
        }
      ]
    },
    {
      "cell_type": "code",
      "metadata": {
        "id": "tljhJy1I3WJg"
      },
      "source": [
        ""
      ],
      "execution_count": null,
      "outputs": []
    }
  ]
}