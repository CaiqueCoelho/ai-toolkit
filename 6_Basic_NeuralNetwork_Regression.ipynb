{
  "nbformat": 4,
  "nbformat_minor": 0,
  "metadata": {
    "anaconda-cloud": {},
    "kernelspec": {
      "display_name": "Python 3.6 (tensorflow)",
      "language": "python",
      "name": "tensorflow"
    },
    "language_info": {
      "codemirror_mode": {
        "name": "ipython",
        "version": 3
      },
      "file_extension": ".py",
      "mimetype": "text/x-python",
      "name": "python",
      "nbconvert_exporter": "python",
      "pygments_lexer": "ipython3",
      "version": "3.7.7"
    },
    "colab": {
      "name": "Basic_NeuralNetwork_Regression.ipynb",
      "provenance": []
    }
  },
  "cells": [
    {
      "cell_type": "code",
      "metadata": {
        "id": "ySrKK2J7TzXt",
        "outputId": "420ff024-2870-4f6f-d100-0ec63a2f13f2",
        "colab": {
          "base_uri": "https://localhost:8080/",
          "height": 1000
        }
      },
      "source": [
        "from tensorflow.keras.models import Sequential\n",
        "from tensorflow.keras.layers import Dense, Activation\n",
        "import pandas as pd\n",
        "import io\n",
        "import os\n",
        "import requests\n",
        "import numpy as np\n",
        "from sklearn import metrics\n",
        "\n",
        "df = pd.read_csv(\n",
        "    \"https://data.heatonresearch.com/data/t81-558/auto-mpg.csv\", \n",
        "    na_values=['NA', '?'])\n",
        "\n",
        "cars = df['name']\n",
        "\n",
        "# Handle missing value\n",
        "df['horsepower'] = df['horsepower'].fillna(df['horsepower'].median())\n",
        "\n",
        "# Pandas to Numpy\n",
        "x = df[['cylinders', 'displacement', 'horsepower', 'weight',\n",
        "       'acceleration', 'year', 'origin']].values\n",
        "y = df['mpg'].values # regression\n",
        "\n",
        "# Build the neural network\n",
        "model = Sequential()\n",
        "model.add(Dense(25, input_dim=x.shape[1], activation='relu')) # Hidden 1\n",
        "model.add(Dense(10, activation='relu')) # Hidden 2\n",
        "model.add(Dense(1)) # Output\n",
        "model.compile(loss='mean_squared_error', optimizer='adam')\n",
        "model.fit(x,y,verbose=2,epochs=100)"
      ],
      "execution_count": 1,
      "outputs": [
        {
          "output_type": "stream",
          "text": [
            "Epoch 1/100\n",
            "13/13 - 0s - loss: 100229.0859\n",
            "Epoch 2/100\n",
            "13/13 - 0s - loss: 4245.7559\n",
            "Epoch 3/100\n",
            "13/13 - 0s - loss: 5188.0527\n",
            "Epoch 4/100\n",
            "13/13 - 0s - loss: 693.0689\n",
            "Epoch 5/100\n",
            "13/13 - 0s - loss: 427.9814\n",
            "Epoch 6/100\n",
            "13/13 - 0s - loss: 279.6783\n",
            "Epoch 7/100\n",
            "13/13 - 0s - loss: 202.1630\n",
            "Epoch 8/100\n",
            "13/13 - 0s - loss: 192.9470\n",
            "Epoch 9/100\n",
            "13/13 - 0s - loss: 182.1321\n",
            "Epoch 10/100\n",
            "13/13 - 0s - loss: 178.9354\n",
            "Epoch 11/100\n",
            "13/13 - 0s - loss: 173.3959\n",
            "Epoch 12/100\n",
            "13/13 - 0s - loss: 171.1769\n",
            "Epoch 13/100\n",
            "13/13 - 0s - loss: 166.7039\n",
            "Epoch 14/100\n",
            "13/13 - 0s - loss: 162.5310\n",
            "Epoch 15/100\n",
            "13/13 - 0s - loss: 160.4122\n",
            "Epoch 16/100\n",
            "13/13 - 0s - loss: 157.3834\n",
            "Epoch 17/100\n",
            "13/13 - 0s - loss: 151.6355\n",
            "Epoch 18/100\n",
            "13/13 - 0s - loss: 149.6518\n",
            "Epoch 19/100\n",
            "13/13 - 0s - loss: 146.0923\n",
            "Epoch 20/100\n",
            "13/13 - 0s - loss: 140.0674\n",
            "Epoch 21/100\n",
            "13/13 - 0s - loss: 137.9043\n",
            "Epoch 22/100\n",
            "13/13 - 0s - loss: 133.2758\n",
            "Epoch 23/100\n",
            "13/13 - 0s - loss: 129.3458\n",
            "Epoch 24/100\n",
            "13/13 - 0s - loss: 125.9915\n",
            "Epoch 25/100\n",
            "13/13 - 0s - loss: 122.5441\n",
            "Epoch 26/100\n",
            "13/13 - 0s - loss: 118.1569\n",
            "Epoch 27/100\n",
            "13/13 - 0s - loss: 117.1370\n",
            "Epoch 28/100\n",
            "13/13 - 0s - loss: 112.8991\n",
            "Epoch 29/100\n",
            "13/13 - 0s - loss: 109.3263\n",
            "Epoch 30/100\n",
            "13/13 - 0s - loss: 106.0313\n",
            "Epoch 31/100\n",
            "13/13 - 0s - loss: 104.6050\n",
            "Epoch 32/100\n",
            "13/13 - 0s - loss: 99.9070\n",
            "Epoch 33/100\n",
            "13/13 - 0s - loss: 99.1655\n",
            "Epoch 34/100\n",
            "13/13 - 0s - loss: 93.1835\n",
            "Epoch 35/100\n",
            "13/13 - 0s - loss: 91.0786\n",
            "Epoch 36/100\n",
            "13/13 - 0s - loss: 88.0607\n",
            "Epoch 37/100\n",
            "13/13 - 0s - loss: 86.7719\n",
            "Epoch 38/100\n",
            "13/13 - 0s - loss: 82.7998\n",
            "Epoch 39/100\n",
            "13/13 - 0s - loss: 79.7493\n",
            "Epoch 40/100\n",
            "13/13 - 0s - loss: 78.2265\n",
            "Epoch 41/100\n",
            "13/13 - 0s - loss: 75.8248\n",
            "Epoch 42/100\n",
            "13/13 - 0s - loss: 73.8761\n",
            "Epoch 43/100\n",
            "13/13 - 0s - loss: 73.6547\n",
            "Epoch 44/100\n",
            "13/13 - 0s - loss: 71.7575\n",
            "Epoch 45/100\n",
            "13/13 - 0s - loss: 68.3010\n",
            "Epoch 46/100\n",
            "13/13 - 0s - loss: 66.0978\n",
            "Epoch 47/100\n",
            "13/13 - 0s - loss: 63.5834\n",
            "Epoch 48/100\n",
            "13/13 - 0s - loss: 61.2139\n",
            "Epoch 49/100\n",
            "13/13 - 0s - loss: 60.3126\n",
            "Epoch 50/100\n",
            "13/13 - 0s - loss: 58.3645\n",
            "Epoch 51/100\n",
            "13/13 - 0s - loss: 56.4025\n",
            "Epoch 52/100\n",
            "13/13 - 0s - loss: 56.3307\n",
            "Epoch 53/100\n",
            "13/13 - 0s - loss: 54.4552\n",
            "Epoch 54/100\n",
            "13/13 - 0s - loss: 53.9555\n",
            "Epoch 55/100\n",
            "13/13 - 0s - loss: 51.2823\n",
            "Epoch 56/100\n",
            "13/13 - 0s - loss: 51.8770\n",
            "Epoch 57/100\n",
            "13/13 - 0s - loss: 48.6409\n",
            "Epoch 58/100\n",
            "13/13 - 0s - loss: 48.5857\n",
            "Epoch 59/100\n",
            "13/13 - 0s - loss: 46.7906\n",
            "Epoch 60/100\n",
            "13/13 - 0s - loss: 46.1001\n",
            "Epoch 61/100\n",
            "13/13 - 0s - loss: 46.1312\n",
            "Epoch 62/100\n",
            "13/13 - 0s - loss: 44.4445\n",
            "Epoch 63/100\n",
            "13/13 - 0s - loss: 43.4844\n",
            "Epoch 64/100\n",
            "13/13 - 0s - loss: 42.3471\n",
            "Epoch 65/100\n",
            "13/13 - 0s - loss: 42.1359\n",
            "Epoch 66/100\n",
            "13/13 - 0s - loss: 40.5572\n",
            "Epoch 67/100\n",
            "13/13 - 0s - loss: 40.3173\n",
            "Epoch 68/100\n",
            "13/13 - 0s - loss: 39.9115\n",
            "Epoch 69/100\n",
            "13/13 - 0s - loss: 39.8046\n",
            "Epoch 70/100\n",
            "13/13 - 0s - loss: 38.9876\n",
            "Epoch 71/100\n",
            "13/13 - 0s - loss: 37.9010\n",
            "Epoch 72/100\n",
            "13/13 - 0s - loss: 36.8186\n",
            "Epoch 73/100\n",
            "13/13 - 0s - loss: 36.9889\n",
            "Epoch 74/100\n",
            "13/13 - 0s - loss: 35.6996\n",
            "Epoch 75/100\n",
            "13/13 - 0s - loss: 35.6880\n",
            "Epoch 76/100\n",
            "13/13 - 0s - loss: 35.0743\n",
            "Epoch 77/100\n",
            "13/13 - 0s - loss: 34.9714\n",
            "Epoch 78/100\n",
            "13/13 - 0s - loss: 33.7854\n",
            "Epoch 79/100\n",
            "13/13 - 0s - loss: 33.1092\n",
            "Epoch 80/100\n",
            "13/13 - 0s - loss: 32.6957\n",
            "Epoch 81/100\n",
            "13/13 - 0s - loss: 32.6112\n",
            "Epoch 82/100\n",
            "13/13 - 0s - loss: 32.8101\n",
            "Epoch 83/100\n",
            "13/13 - 0s - loss: 31.9066\n",
            "Epoch 84/100\n",
            "13/13 - 0s - loss: 32.1310\n",
            "Epoch 85/100\n",
            "13/13 - 0s - loss: 31.5993\n",
            "Epoch 86/100\n",
            "13/13 - 0s - loss: 30.8020\n",
            "Epoch 87/100\n",
            "13/13 - 0s - loss: 30.3587\n",
            "Epoch 88/100\n",
            "13/13 - 0s - loss: 29.7642\n",
            "Epoch 89/100\n",
            "13/13 - 0s - loss: 30.0798\n",
            "Epoch 90/100\n",
            "13/13 - 0s - loss: 29.9368\n",
            "Epoch 91/100\n",
            "13/13 - 0s - loss: 29.4971\n",
            "Epoch 92/100\n",
            "13/13 - 0s - loss: 29.2464\n",
            "Epoch 93/100\n",
            "13/13 - 0s - loss: 29.4429\n",
            "Epoch 94/100\n",
            "13/13 - 0s - loss: 28.4717\n",
            "Epoch 95/100\n",
            "13/13 - 0s - loss: 27.9867\n",
            "Epoch 96/100\n",
            "13/13 - 0s - loss: 28.1195\n",
            "Epoch 97/100\n",
            "13/13 - 0s - loss: 27.4499\n",
            "Epoch 98/100\n",
            "13/13 - 0s - loss: 27.5296\n",
            "Epoch 99/100\n",
            "13/13 - 0s - loss: 27.2417\n",
            "Epoch 100/100\n",
            "13/13 - 0s - loss: 26.8454\n"
          ],
          "name": "stdout"
        },
        {
          "output_type": "execute_result",
          "data": {
            "text/plain": [
              "<tensorflow.python.keras.callbacks.History at 0x7f4243677668>"
            ]
          },
          "metadata": {
            "tags": []
          },
          "execution_count": 1
        }
      ]
    },
    {
      "cell_type": "markdown",
      "metadata": {
        "id": "jiMjgUdNTzXw"
      },
      "source": [
        "\n",
        "### Controlling the Amount of Output\n",
        "\n",
        "* **verbose=0** - No progress output (use with Jupyter if you do not want output)\n",
        "* **verbose=1** - Display progress bar, does not work well with Jupyter\n",
        "* **verbose=2** - Summary progress output (use with Jupyter if you want to know the loss at each epoch)"
      ]
    },
    {
      "cell_type": "code",
      "metadata": {
        "id": "R39NnG5jTzXw",
        "outputId": "b71e3e1f-2132-4c13-8ca3-df0c62acfcfc"
      },
      "source": [
        "pred = model.predict(x)\n",
        "print(f\"Shape: {pred.shape}\")\n",
        "print(pred[0:10])"
      ],
      "execution_count": null,
      "outputs": [
        {
          "output_type": "stream",
          "text": [
            "Shape: (398, 1)\n",
            "[[23.08987 ]\n",
            " [23.776747]\n",
            " [22.190557]\n",
            " [22.24273 ]\n",
            " [22.536469]\n",
            " [27.865118]\n",
            " [27.486967]\n",
            " [27.316473]\n",
            " [27.953611]\n",
            " [24.391483]]\n"
          ],
          "name": "stdout"
        }
      ]
    },
    {
      "cell_type": "code",
      "metadata": {
        "id": "aZ3rXXpATzXz",
        "outputId": "49830fd5-9a1f-4352-d4ae-9d65b96967d3"
      },
      "source": [
        "# Measure RMSE error.  RMSE is common for regression.\n",
        "score = np.sqrt(metrics.mean_squared_error(pred,y))\n",
        "print(f\"Final score (RMSE): {score}\")"
      ],
      "execution_count": null,
      "outputs": [
        {
          "output_type": "stream",
          "text": [
            "Final score (RMSE): 13.157274080377979\n"
          ],
          "name": "stdout"
        }
      ]
    },
    {
      "cell_type": "code",
      "metadata": {
        "id": "iVeQ7BVgTzX2",
        "outputId": "74246759-abce-4e5f-b0bd-bc66b37bb347"
      },
      "source": [
        "# Sample predictions\n",
        "for i in range(10):\n",
        "    print(f\"{i+1}. Car name: {cars[i]}, MPG: {y[i]}, \" \n",
        "          + \"predicted MPG: {pred[i]}\")"
      ],
      "execution_count": null,
      "outputs": [
        {
          "output_type": "stream",
          "text": [
            "1. Car name: chevrolet chevelle malibu, MPG: 18.0, predicted MPG: {pred[i]}\n",
            "2. Car name: buick skylark 320, MPG: 15.0, predicted MPG: {pred[i]}\n",
            "3. Car name: plymouth satellite, MPG: 18.0, predicted MPG: {pred[i]}\n",
            "4. Car name: amc rebel sst, MPG: 16.0, predicted MPG: {pred[i]}\n",
            "5. Car name: ford torino, MPG: 17.0, predicted MPG: {pred[i]}\n",
            "6. Car name: ford galaxie 500, MPG: 15.0, predicted MPG: {pred[i]}\n",
            "7. Car name: chevrolet impala, MPG: 14.0, predicted MPG: {pred[i]}\n",
            "8. Car name: plymouth fury iii, MPG: 14.0, predicted MPG: {pred[i]}\n",
            "9. Car name: pontiac catalina, MPG: 14.0, predicted MPG: {pred[i]}\n",
            "10. Car name: amc ambassador dpl, MPG: 15.0, predicted MPG: {pred[i]}\n"
          ],
          "name": "stdout"
        }
      ]
    }
  ]
}