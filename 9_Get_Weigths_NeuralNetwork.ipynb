{
  "nbformat": 4,
  "nbformat_minor": 0,
  "metadata": {
    "anaconda-cloud": {},
    "kernelspec": {
      "display_name": "Python 3.6 (tensorflow)",
      "language": "python",
      "name": "tensorflow"
    },
    "language_info": {
      "codemirror_mode": {
        "name": "ipython",
        "version": 3
      },
      "file_extension": ".py",
      "mimetype": "text/x-python",
      "name": "python",
      "nbconvert_exporter": "python",
      "pygments_lexer": "ipython3",
      "version": "3.7.7"
    },
    "colab": {
      "name": "Get_Weigths_NeuralNetwork.ipynb",
      "provenance": []
    }
  },
  "cells": [
    {
      "cell_type": "code",
      "metadata": {
        "id": "xIdnTN-ow5s5",
        "outputId": "40466f7a-16bb-4fab-f78b-c16e3910a395"
      },
      "source": [
        "from tensorflow.keras.models import Sequential\n",
        "from tensorflow.keras.layers import Dense, Activation\n",
        "import numpy as np\n",
        "\n",
        "# Create a dataset for the XOR function\n",
        "x = np.array([\n",
        "    [0,0],\n",
        "    [1,0],\n",
        "    [0,1],\n",
        "    [1,1]\n",
        "])\n",
        "\n",
        "y = np.array([\n",
        "    0,\n",
        "    1,\n",
        "    1,\n",
        "    0\n",
        "])\n",
        "\n",
        "# Build the network\n",
        "# sgd = optimizers.SGD(lr=0.01, decay=1e-6, momentum=0.9, nesterov=True)\n",
        "\n",
        "done = False\n",
        "cycle = 1\n",
        "\n",
        "while not done:\n",
        "    print(\"Cycle #{}\".format(cycle))\n",
        "    cycle+=1\n",
        "    model = Sequential()\n",
        "    model.add(Dense(2, input_dim=2, activation='relu')) \n",
        "    model.add(Dense(1)) \n",
        "    model.compile(loss='mean_squared_error', optimizer='adam')\n",
        "    model.fit(x,y,verbose=0,epochs=10000)\n",
        "\n",
        "    # Predict\n",
        "    pred = model.predict(x)\n",
        "    \n",
        "    # Check if successful.  It takes several runs with this \n",
        "    # small of a network\n",
        "    done = pred[0]<0.01 and pred[3]<0.01 and pred[1] > 0.9 \\\n",
        "        and pred[2] > 0.9 \n",
        "    print(pred)"
      ],
      "execution_count": null,
      "outputs": [
        {
          "output_type": "stream",
          "text": [
            "Cycle #1\n",
            "[[0.49999997]\n",
            " [0.49999997]\n",
            " [0.49999997]\n",
            " [0.49999997]]\n",
            "Cycle #2\n",
            "[[0.33333334]\n",
            " [1.        ]\n",
            " [0.33333334]\n",
            " [0.33333334]]\n",
            "Cycle #3\n",
            "[[0.33333334]\n",
            " [1.        ]\n",
            " [0.33333334]\n",
            " [0.33333334]]\n",
            "Cycle #4\n",
            "[[0.]\n",
            " [1.]\n",
            " [1.]\n",
            " [0.]]\n"
          ],
          "name": "stdout"
        }
      ]
    },
    {
      "cell_type": "code",
      "metadata": {
        "id": "URHWuqimw5s8",
        "outputId": "d75b3181-fd7b-48fc-987c-7938a20c1142"
      },
      "source": [
        "pred[3]"
      ],
      "execution_count": null,
      "outputs": [
        {
          "output_type": "execute_result",
          "data": {
            "text/plain": [
              "array([0.], dtype=float32)"
            ]
          },
          "metadata": {
            "tags": []
          },
          "execution_count": 3
        }
      ]
    },
    {
      "cell_type": "markdown",
      "metadata": {
        "id": "7cMwUK74w5s_"
      },
      "source": [
        "The output above should have two numbers near 0.0 for the first and forth spots (input [[0,0]] and [[1,1]]).  The middle two numbers should be near 1.0 (input [[1,0]] and [[0,1]]).  These numbers are in scientific notation.  Due to random starting weights, it is sometimes necessary to run the above through several cycles to get a good result.\n",
        "\n",
        "Now that the neural network is trained, lets dump the weights.  "
      ]
    },
    {
      "cell_type": "code",
      "metadata": {
        "id": "efxoAj5zw5s_",
        "outputId": "f5cbdf15-68fc-4050-9d39-a3dc4f54b9d6"
      },
      "source": [
        "# Dump weights\n",
        "for layerNum, layer in enumerate(model.layers):\n",
        "    weights = layer.get_weights()[0]\n",
        "    biases = layer.get_weights()[1]\n",
        "    \n",
        "    for toNeuronNum, bias in enumerate(biases):\n",
        "        print(f'{layerNum}B -> L{layerNum+1}N{toNeuronNum}: {bias}')\n",
        "    \n",
        "    for fromNeuronNum, wgt in enumerate(weights):\n",
        "        for toNeuronNum, wgt2 in enumerate(wgt):\n",
        "            print(f'L{layerNum}N{fromNeuronNum} \\\n",
        "                  -> L{layerNum+1}N{toNeuronNum} = {wgt2}')"
      ],
      "execution_count": null,
      "outputs": [
        {
          "output_type": "stream",
          "text": [
            "0B -> L1N0: 1.3025760914331386e-08\n",
            "0B -> L1N1: -1.4192625741316078e-08\n",
            "L0N0                   -> L1N0 = 0.659289538860321\n",
            "L0N0                   -> L1N1 = -0.9533336758613586\n",
            "L0N1                   -> L1N0 = -0.659289538860321\n",
            "L0N1                   -> L1N1 = 0.9533336758613586\n",
            "1B -> L2N0: -1.9757269598130733e-08\n",
            "L1N0                   -> L2N0 = 1.5167843103408813\n",
            "L1N1                   -> L2N0 = 1.0489506721496582\n"
          ],
          "name": "stdout"
        }
      ]
    },
    {
      "cell_type": "markdown",
      "metadata": {
        "id": "w2vZONBJw5tC"
      },
      "source": [
        "```\n",
        "0B -> L1N0: -1.2913415431976318\n",
        "0B -> L1N1: -3.021530048386012e-08\n",
        "L0N0 -> L1N0 = 1.2913416624069214\n",
        "L0N0 -> L1N1 = 1.1912699937820435\n",
        "L0N1 -> L1N0 = 1.2913411855697632\n",
        "L0N1 -> L1N1 = 1.1912697553634644\n",
        "1B -> L2N0: 7.626241297587034e-36\n",
        "L1N0 -> L2N0 = -1.548777461051941\n",
        "L1N1 -> L2N0 = 0.8394404649734497\n",
        "```"
      ]
    },
    {
      "cell_type": "code",
      "metadata": {
        "id": "gdMuJM_pw5tD",
        "outputId": "ce284017-6021-44ae-c9cb-6d180d625175"
      },
      "source": [
        "input0 = 0\n",
        "input1 = 1\n",
        "\n",
        "hidden0Sum = (input0*1.3)+(input1*1.3)+(-1.3)\n",
        "hidden1Sum = (input0*1.2)+(input1*1.2)+(0)\n",
        "\n",
        "print(hidden0Sum) # 0\n",
        "print(hidden1Sum) # 1.2\n",
        "\n",
        "hidden0 = max(0,hidden0Sum)\n",
        "hidden1 = max(0,hidden1Sum)\n",
        "\n",
        "print(hidden0) # 0\n",
        "print(hidden1) # 1.2\n",
        "\n",
        "outputSum = (hidden0*-1.6)+(hidden1*0.8)+(0)\n",
        "print(outputSum) # 0.96\n",
        "\n",
        "output = max(0,outputSum)\n",
        "\n",
        "print(output) # 0.96"
      ],
      "execution_count": null,
      "outputs": [
        {
          "output_type": "stream",
          "text": [
            "0.0\n",
            "1.2\n",
            "0\n",
            "1.2\n",
            "0.96\n",
            "0.96\n"
          ],
          "name": "stdout"
        }
      ]
    },
    {
      "cell_type": "code",
      "metadata": {
        "id": "uFmtummiw5tF"
      },
      "source": [
        ""
      ],
      "execution_count": null,
      "outputs": []
    }
  ]
}